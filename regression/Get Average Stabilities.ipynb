{
 "cells": [
  {
   "cell_type": "code",
   "execution_count": 1,
   "metadata": {},
   "outputs": [],
   "source": [
    "# Laura Burdick (lburdick@umich.edu)\n",
    "# Get average stability for each language"
   ]
  },
  {
   "cell_type": "code",
   "execution_count": 2,
   "metadata": {},
   "outputs": [],
   "source": [
    "import pandas as pd\n",
    "import pickle\n",
    "import numpy as np\n",
    "import matplotlib.pyplot as plt"
   ]
  },
  {
   "cell_type": "code",
   "execution_count": 3,
   "metadata": {},
   "outputs": [],
   "source": [
    "# SET THESE VARIABLES\n",
    "\n",
    "# Location where stability for each word in each language of the Bible is\n",
    "# stored (calculated using stability/stability_bible.py).\n",
    "# Files should have the format\n",
    "# {output_path}{language}.csv,\n",
    "# where the csv file has columns \"word\" and \"stability\",\n",
    "# and the stability value is recorded for each word.\n",
    "bible_path = '../corpus/w2v/stability/'\n",
    "\n",
    "# List of Bible languages (can adjust if needed, or leave the same)\n",
    "bible_languages = ['Czech.txt', 'Gujarati-NT.txt', 'Quichua-NT.txt', 'Farsi.txt', 'Indonesian.txt', 'German.txt', 'Norwegian.txt', 'Arabic.txt', 'Tuareg-PART.txt', 'Japanese.txt', 'Serbian.txt', 'Amuzgo-NT.txt', 'Potawatomi-PART.txt', 'Malayalam.txt', 'Thai-tok.txt', 'Esperanto.txt', 'Wolof-NT.txt', 'Campa-NT.txt', 'Aukan-NT.txt', 'Swedish.txt', 'Bulgarian.txt', 'Chinese-tok.txt', 'Basque-NT.txt', 'Mam-NT.txt', 'Turkish.txt', 'Wolaytta-NT.txt', 'English-WEB.txt', 'Shuar-NT.txt', 'Coptic-NT.txt', 'Ukranian-NT.txt', 'Finnish.txt', 'Chinese.txt', 'Chamorro-PART.txt', 'Aguaruna-NT.txt', 'Vietnamese.txt', 'Kannada.txt', 'Lukpa-NT.txt', 'Lithuanian.txt', 'Hindi.txt', 'Somali.txt', 'Latvian-NT.txt', 'Slovene.txt', 'Russian.txt', 'Syriac-NT.txt', 'Danish.txt', 'French.txt', 'Nepali.txt', 'Xhosa.txt', 'Japanese-tok.txt', 'Maori.txt', 'Tagalog.txt', 'Camsa-NT.txt', \"K'iche'-NT-SIL.txt\", \"K'iche'-NT.txt\", 'Uma-NT.txt', 'Cebuano.txt', 'Achuar-NT.txt', 'Zulu-NT.txt', 'Dinka-NT.txt', 'Cakchiquel-NT.txt', 'Cherokee-NT.txt', 'Shona.txt', 'Gaelic-PART.txt', 'Nahuatl-NT.txt', 'Latin.txt', 'Zarma.txt', 'Ojibwa-NT.txt', 'Ewe-NT.txt', 'Estonian-PART.txt', \"Q'eqchi'.txt\", 'English.txt', 'Amharic.txt', 'Swahili-NT.txt', 'Cabecar-NT.txt', 'Albanian.txt', 'Romani-NT.txt', 'Afrikaans.txt', 'Tachelhit-NT.txt', 'Galela-NT.txt', 'Barasana-NT.txt', 'Armenian-PART.txt', 'Paite.txt', 'Uspanteco-NT.txt', 'Icelandic.txt', 'Hungarian.txt', 'Romanian.txt', 'Akawaio-NT.txt', 'Spanish.txt', 'Kabyle-NT.txt', 'Chinantec-NT.txt', 'Thai.txt', 'Greek.txt', 'Italian.txt', 'Marathi.txt', 'Myanmar.txt', 'Manx-PART.txt', 'Portuguese.txt', 'Vietnamese-tok.txt', 'Hebrew.txt', 'Jakalteko-NT.txt', 'Dutch.txt', 'Malagasy.txt', 'Korean.txt', 'Croatian.txt', 'Telugu.txt', 'Slovak.txt', 'Polish.txt', 'Creole.txt']\n",
    "# Location where stability for each word in each language of Wikipedia is\n",
    "# stored (calculated using stability/stability_wikipedia.py).\n",
    "# Files should have the format\n",
    "# {output_path}{language}_downsampled_without_replacement_glove_stability.csv,\n",
    "# where the csv file has columns \"word\" and \"stability\",\n",
    "# and the stability value is recorded for each word.\n",
    "wiki_path = '../../embedding_datasets/polyglot/'\n",
    "\n",
    "# List of Wikipedia languages (can adjust if needed, or leave the same)\n",
    "wiki_languages = languages=['ar','bg','ca','cs','da','de','el','en','es','et','fa','fi','fr','he','hi','hr','hu','id','it','ja','ko','lt','lv','ms','nl','no','pl','pt','ro','ru','sk','sl','sr','sv','th','tl','tr','uk','vi','zh']\n",
    "\n",
    "# Location to save output average stabilities\n",
    "# File will have be formatted as a csv file with columns \"language\" and\n",
    "# \"averageStability\", where language is the Bible code for the language\n",
    "# and averageStability is the average stability of that language\n",
    "output_path = '../corpus/average_stabilities_allLanguages.csv'\n"
   ]
  },
  {
   "cell_type": "code",
   "execution_count": 12,
   "metadata": {},
   "outputs": [],
   "source": [
    "# First, calculate average stabilities for Bible\n",
    "average_stabilities = {} #key: abbrev. Bible language, values: avg. stability\n",
    "for bible_language in bible_languages:\n",
    "    stability = pd.read_csv(bible_path+bible_language[:-4]+'.csv')\n",
    "    average_stability = sum(stability.stability)/len(stability)\n",
    "    language = bible_language[:3].lower() #abbrev. Bible language\n",
    "    if language in average_stabilities:\n",
    "        # If there is more than one translation in a language,\n",
    "        # take one with highest stability\n",
    "        if average_stability > average_stabilities[language]:\n",
    "            average_stabilities[language] = average_stability\n",
    "    else:\n",
    "        average_stabilities[language] = average_stability"
   ]
  },
  {
   "cell_type": "code",
   "execution_count": 13,
   "metadata": {},
   "outputs": [],
   "source": [
    "# Read in mapping between Bible language names and Wikipedia language names\n",
    "mapping_file = pd.read_csv('multilingual_corpora.csv')\n",
    "mapping = {} #key: Wikipedia language code, values: Bible language code\n",
    "for it,row in mapping_file.iterrows():\n",
    "    if len(str(row['Identifier'])) > 2:\n",
    "        continue\n",
    "    mapping[row['Identifier']] = row['ISO 639-3 Code']\n",
    "mapping['ca'] = 'cat' # Some additional manual mappings\n",
    "mapping['fa'] = 'fas'\n",
    "mapping['id'] = 'ind'\n",
    "mapping['ja'] = 'jpn'\n",
    "mapping['lv'] = 'lav'\n",
    "mapping['ms'] = 'may'\n",
    "mapping['sl'] = 'slv'\n",
    "mapping['ar'] = 'arb'\n",
    "mapping['zh'] = 'mnd'"
   ]
  },
  {
   "cell_type": "code",
   "execution_count": null,
   "metadata": {},
   "outputs": [],
   "source": [
    "# Now, calculate average stabilities for Wikipedia\n",
    "for language in wiki_languages:\n",
    "    stability = pd.read_csv(wiki_path+language+'_downsampled_without_replacement_glove_stability.csv')\n",
    "    mapped_language = mapping[language]\n",
    "    average_stability = sum(stability.stability)/len(stability)\n",
    "    if mapped_language in average_stabilities:\n",
    "        average_stabilities[mapped_language] = (average_stabilities[mapped_language]+average_stability) / 2\n",
    "    else:\n",
    "        average_stabilities[mapped_language] = average_stability"
   ]
  },
  {
   "cell_type": "code",
   "execution_count": 15,
   "metadata": {},
   "outputs": [],
   "source": [
    "# Save average stabilities\n",
    "stabilities = pd.DataFrame(data={'language':list(average_stabilities.keys()),'averageStability':[average_stabilities[i] for i in average_stabilities.keys()]})\n",
    "stabilities.to_csv(output_path)\n"
   ]
  },
  {
   "cell_type": "markdown",
   "metadata": {},
   "source": [
    "# Get graph of stability buckets for different words"
   ]
  },
  {
   "cell_type": "code",
   "execution_count": 267,
   "metadata": {},
   "outputs": [],
   "source": [
    "# Names of csv files for different languages that are to be plotted\n",
    "bible_language1 = 'hi.csv'\n",
    "bible_language2 = 'bg.csv'\n",
    "bible_language3 = 'ar.csv'\n",
    "bible_language4 = 'en.csv'\n"
   ]
  },
  {
   "cell_type": "code",
   "execution_count": 268,
   "metadata": {},
   "outputs": [],
   "source": [
    "stability1 = pd.read_csv(bible_path+bible_language1)\n",
    "stability1 = stability1.rename(columns={'stability':'Hindi'})\n",
    "stability1['Hindi']/=10\n",
    "stability2 = pd.read_csv(bible_path+bible_language2)\n",
    "stability2 = stability2.rename(columns={'stability':'Bulgarian'})\n",
    "stability2['Bulgarian']/=10\n",
    "stability3 = pd.read_csv(bible_path+bible_language3)\n",
    "stability3 = stability3.rename(columns={'stability':'Arabic'})\n",
    "stability3['Arabic']/=10\n",
    "stability4 = pd.read_csv(bible_path+bible_language3)\n",
    "stability4 = stability4.rename(columns={'stability':'English'})\n",
    "stability4['English']/=10"
   ]
  },
  {
   "cell_type": "code",
   "execution_count": 266,
   "metadata": {},
   "outputs": [
    {
     "data": {
      "image/png": "[encoded data removed]",
      "text/plain": [
       "<Figure size 432x288 with 1 Axes>"
      ]
     },
     "metadata": {
      "needs_background": "light"
     },
     "output_type": "display_data"
    }
   ],
   "source": [
    "df1 = pd.cut(stability1['Hindi'], bins=np.linspace(0, 1, 5)).value_counts(sort=False)\n",
    "df1 /= df1.sum()/100\n",
    "ax = df1.plot(logy=True,ylabel='% of words',xlabel='% Stability (bucketed)',legend=True)\n",
    "df2 = pd.cut(stability2['Bulgarian'], bins=np.linspace(0, 1, 5)).value_counts(sort=False)\n",
    "df2 /= df2.sum()/100\n",
    "df2.plot(logy=True, title=bible_language2[:-4],ylabel='% of words',xlabel='% Stability (bucketed)',legend=True,ax=ax)\n",
    "df3 = pd.cut(stability3['Arabic'], bins=np.linspace(0, 1, 5)).value_counts(sort=False)\n",
    "df3 /= df3.sum()/100\n",
    "p = df3.plot(logy=True, title='Quran',ylabel='% of words',xlabel='% Stability (bucketed)',legend=True,ax=ax)\n",
    "df4 = pd.cut(stability4['English'], bins=np.linspace(0, 1, 5)).value_counts(sort=False)\n",
    "df4 /= df4.sum()/100\n",
    "p = df4.plot(logy=True, title='Quran',ylabel='% of words',xlabel='% Stability (bucketed)',legend=True,ax=ax)\n",
    "fig = p.get_figure()\n",
    "fig.savefig(\"quran.png\")"
   ]
  }
 ],
 "metadata": {
  "kernelspec": {
   "display_name": "Python 3",
   "language": "python",
   "name": "python3"
  },
  "language_info": {
   "codemirror_mode": {
    "name": "ipython",
    "version": 3
   },
   "file_extension": ".py",
   "mimetype": "text/x-python",
   "name": "python",
   "nbconvert_exporter": "python",
   "pygments_lexer": "ipython3",
   "version": "3.8.10"
  }
 },
 "nbformat": 4,
 "nbformat_minor": 4
}
